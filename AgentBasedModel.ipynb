{
 "cells": [
  {
   "cell_type": "code",
   "execution_count": null,
   "metadata": {},
   "outputs": [],
   "source": [
    "def check_anomaly(row):\n",
    "    if (row['timestamp'].hour < 4 and row['count'] > 40):\n",
    "        return 1\n",
    "    elif (row['count'] > 60):\n",
    "        return 1\n",
    "    elif (row['difference'] > 30):\n",
    "        return 1\n",
    "    elif (row['count'] < 10 and row['timestamp'].hour >= 15 and row['timestamp'].hour <=19):\n",
    "        return 1\n",
    "    else:\n",
    "        return 0\n",
    "\n",
    "# Apply the function to create the 'actualAnomaly' column\n",
    "df_combined['actualAnomaly'] = df_combined.apply(check_anomaly, axis=1)\n",
    "\n",
    "df_combined['pastAnomaly'] =  df_combined['actualAnomaly'].shift(1)\n",
    "df_combined['nextAnomaly'] =  df_combined['actualAnomaly'].shift(-1)\n",
    "\n",
    "df_combined['pastAnomaly'] = df_combined['pastAnomaly'].fillna(0)\n",
    "df_combined['nextAnomaly'] = df_combined['nextAnomaly'].fillna(0)\n",
    "\n",
    "df_combined['ultraAnomaly'] = df_combined.apply(lambda x: max(x['actualAnomaly'], x['pastAnomaly'] *  x['nextAnomaly']),axis=1) \n",
    "\n",
    "df_train['timestamp'] = pd.to_datetime(df_train['timestamp'])\n",
    "df_test['timestamp'] = pd.to_datetime(df_test['timestamp'])\n",
    "df_train['actualAnomaly'] = df_train.apply(check_anomaly, axis=1)\n",
    "df_test['actualAnomaly'] = df_test.apply(check_anomaly, axis=1)\n",
    "\n",
    "anomaly = df_combined.loc[df_combined['ultraAnomaly'] == 1, ['timestamp', 'count']]\n",
    "print(anomaly.shape)\n",
    "plt.figure(figsize=(20, 6))\n",
    "plt.plot(df_combined['timestamp'], df_combined['count'], label='Time Series')\n",
    "plt.scatter(anomaly['timestamp'],anomaly['count'], color='red', label='Detected Outliers')\n",
    "plt.xlabel('minute')\n",
    "plt.ylabel('count')\n",
    "plt.legend()\n",
    "plt.show()"
   ]
  }
 ],
 "metadata": {
  "kernelspec": {
   "display_name": "Python 3",
   "language": "python",
   "name": "python3"
  },
  "language_info": {
   "name": "python",
   "version": "3.12.3"
  }
 },
 "nbformat": 4,
 "nbformat_minor": 2
}
